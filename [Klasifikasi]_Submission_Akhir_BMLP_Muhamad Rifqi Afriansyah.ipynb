{
  "nbformat": 4,
  "nbformat_minor": 0,
  "metadata": {
    "colab": {
      "provenance": []
    },
    "kernelspec": {
      "name": "python3",
      "display_name": "Python 3"
    },
    "language_info": {
      "name": "python"
    }
  },
  "cells": [
    {
      "cell_type": "markdown",
      "source": [
        "# **1. Import Library**"
      ],
      "metadata": {
        "id": "fKADPWcFKlj3"
      }
    },
    {
      "cell_type": "markdown",
      "source": [
        "Pada tahap ini, Anda perlu mengimpor beberapa pustaka (library) Python yang dibutuhkan untuk analisis data dan pembangunan model machine learning."
      ],
      "metadata": {
        "id": "LgA3ERnVn84N"
      }
    },
    {
      "cell_type": "code",
      "source": [
        "from google.colab import drive\n",
        "drive.mount('/content/drive')"
      ],
      "metadata": {
        "id": "s6_y6SLB9T71",
        "outputId": "7d1fd1bb-c30c-4268-8fc6-f6c4bbadc848",
        "colab": {
          "base_uri": "https://localhost:8080/"
        }
      },
      "execution_count": 1,
      "outputs": [
        {
          "output_type": "stream",
          "name": "stdout",
          "text": [
            "Mounted at /content/drive\n"
          ]
        }
      ]
    },
    {
      "cell_type": "code",
      "source": [
        "# Import pustaka yang diperlukan\n",
        "import pandas as pd\n",
        "import numpy as np\n",
        "import matplotlib.pyplot as plt\n",
        "import seaborn as sns\n",
        "from sklearn.model_selection import train_test_split\n",
        "from sklearn.ensemble import RandomForestClassifier\n",
        "from sklearn.metrics import accuracy_score, classification_report, confusion_matrix"
      ],
      "metadata": {
        "id": "BlmvjLY9M4Yj"
      },
      "execution_count": 2,
      "outputs": []
    },
    {
      "cell_type": "markdown",
      "source": [
        "# **2. Memuat Dataset dari Hasil Clustering**"
      ],
      "metadata": {
        "id": "f3YIEnAFKrKL"
      }
    },
    {
      "cell_type": "markdown",
      "source": [
        "Memuat dataset hasil clustering dari file CSV ke dalam variabel DataFrame."
      ],
      "metadata": {
        "id": "Ey3ItwTen_7E"
      }
    },
    {
      "cell_type": "code",
      "source": [
        "# Memuat dataset hasil clustering\n",
        "file_path = '/content/drive/MyDrive/Dataset Clustering/hasil_clusteringV2.csv'\n",
        "dataset = pd.read_csv(file_path)\n",
        "\n",
        "# Tampilkan beberapa baris pertama untuk verifikasi\n",
        "print(\"Dataset yang Dimuat:\")\n",
        "print(dataset.head())\n"
      ],
      "metadata": {
        "id": "GHCGNTyrM5fS",
        "outputId": "cf916481-fdbe-4e30-9b1d-1ff57da65264",
        "colab": {
          "base_uri": "https://localhost:8080/"
        }
      },
      "execution_count": 5,
      "outputs": [
        {
          "output_type": "stream",
          "name": "stdout",
          "text": [
            "Dataset yang Dimuat:\n",
            "         ID  Year_Birth  Education  Marital_Status    Income   Kidhome  \\\n",
            "0 -1.053058   -1.235733          2               3 -0.235826  1.032559   \n",
            "1 -0.447070   -0.317643          2               4  0.773633 -0.825218   \n",
            "2  0.181716    1.268149          2               4 -1.022732  1.032559   \n",
            "3 -0.082614    1.017761          4               2  0.241519  1.032559   \n",
            "4  0.571126   -0.150717          3               4  0.410102 -0.825218   \n",
            "\n",
            "   Teenhome  Dt_Customer   Recency  MntWines  ...  AcceptedCmp4  AcceptedCmp5  \\\n",
            "0  0.906934          132 -0.383664 -0.870479  ...      -0.28383      -0.28014   \n",
            "1 -0.929894          374 -0.798086  0.362723  ...      -0.28383      -0.28014   \n",
            "2 -0.929894          166 -0.798086 -0.870479  ...      -0.28383      -0.28014   \n",
            "3 -0.929894          331  1.550305 -0.389085  ...      -0.28383      -0.28014   \n",
            "4  0.906934          158 -1.143438  0.642051  ...      -0.28383      -0.28014   \n",
            "\n",
            "   AcceptedCmp1  AcceptedCmp2  Complain  Z_CostContact  Z_Revenue  Response  \\\n",
            "0     -0.262111      -0.11651 -0.097282            0.0        0.0 -0.418612   \n",
            "1     -0.262111      -0.11651 -0.097282            0.0        0.0 -0.418612   \n",
            "2     -0.262111      -0.11651 -0.097282            0.0        0.0 -0.418612   \n",
            "3     -0.262111      -0.11651 -0.097282            0.0        0.0 -0.418612   \n",
            "4     -0.262111      -0.11651 -0.097282            0.0        0.0 -0.418612   \n",
            "\n",
            "     Age_Group  Cluster  \n",
            "0        Adult        1  \n",
            "1  Middle-Aged        0  \n",
            "2       Senior        1  \n",
            "3       Senior        0  \n",
            "4  Middle-Aged        0  \n",
            "\n",
            "[5 rows x 31 columns]\n"
          ]
        }
      ]
    },
    {
      "cell_type": "markdown",
      "source": [
        "# **3. Data Splitting**"
      ],
      "metadata": {
        "id": "KkPem5eWL2UP"
      }
    },
    {
      "cell_type": "markdown",
      "source": [
        "Tahap Data Splitting bertujuan untuk memisahkan dataset menjadi dua bagian: data latih (training set) dan data uji (test set)."
      ],
      "metadata": {
        "id": "YYj1rl_JNI9Y"
      }
    },
    {
      "cell_type": "code",
      "source": [
        "from sklearn.model_selection import train_test_split\n",
        "\n",
        "# Pisahkan fitur (X) dan label (y)\n",
        "X = dataset.drop(columns=['Cluster'])  # 'Cluster' adalah label hasil clustering\n",
        "y = dataset['Cluster']\n",
        "\n",
        "# Memisahkan data menjadi training set (80%) dan test set (20%)\n",
        "X_train, X_test, y_train, y_test = train_test_split(X, y, test_size=0.2, random_state=42)\n",
        "\n",
        "# Verifikasi bentuk data\n",
        "print(\"Data Training:\")\n",
        "print(f\"Fitur: {X_train.shape}, Label: {y_train.shape}\")\n",
        "print(\"\\nData Testing:\")\n",
        "print(f\"Fitur: {X_test.shape}, Label: {y_test.shape}\")"
      ],
      "metadata": {
        "id": "OubAW-7ONKVj",
        "outputId": "17f9850e-8d84-4913-be7b-4e5cdafb6a07",
        "colab": {
          "base_uri": "https://localhost:8080/"
        }
      },
      "execution_count": 6,
      "outputs": [
        {
          "output_type": "stream",
          "name": "stdout",
          "text": [
            "Data Training:\n",
            "Fitur: (965, 30), Label: (965,)\n",
            "\n",
            "Data Testing:\n",
            "Fitur: (242, 30), Label: (242,)\n"
          ]
        }
      ]
    },
    {
      "cell_type": "markdown",
      "source": [
        "# **4. Membangun Model Klasifikasi**\n"
      ],
      "metadata": {
        "id": "IVPbB03CMhTT"
      }
    },
    {
      "cell_type": "markdown",
      "source": [
        "## **a. Membangun Model Klasifikasi**"
      ],
      "metadata": {
        "id": "Ned1pL9zMmBK"
      }
    },
    {
      "cell_type": "markdown",
      "source": [
        "Setelah memilih algoritma klasifikasi yang sesuai, langkah selanjutnya adalah melatih model menggunakan data latih.\n",
        "\n",
        "Berikut adalah rekomendasi tahapannya.\n",
        "1. Pilih algoritma klasifikasi yang sesuai, seperti Logistic Regression, Decision Tree, Random Forest, atau K-Nearest Neighbors (KNN).\n",
        "2. Latih model menggunakan data latih."
      ],
      "metadata": {
        "id": "WAWzPOE4Nkti"
      }
    },
    {
      "cell_type": "code",
      "source": [
        "from sklearn.preprocessing import LabelEncoder\n",
        "from sklearn.ensemble import RandomForestClassifier\n",
        "from sklearn.metrics import accuracy_score, classification_report\n",
        "\n",
        "# Langkah 1: Verifikasi Tipe Data\n",
        "print(\"Tipe data di X_train sebelum encoding:\")\n",
        "print(X_train.dtypes)\n",
        "\n",
        "print(\"\\nTipe data di y_train sebelum encoding:\")\n",
        "print(y_train.dtypes)\n",
        "\n",
        "# Langkah 2: Encoding Data Kategorikal di X_train dan X_test\n",
        "categorical_cols = X_train.select_dtypes(include=['object']).columns  # Identifikasi kolom kategorikal\n",
        "encoder = LabelEncoder()\n",
        "\n",
        "for col in categorical_cols:\n",
        "    X_train[col] = encoder.fit_transform(X_train[col])  # Encoding data latih\n",
        "    X_test[col] = encoder.transform(X_test[col])  # Encoding data uji\n",
        "\n",
        "# Encoding y_train dan y_test jika perlu\n",
        "if y_train.dtypes == 'object' or y_train.dtypes == 'category':\n",
        "    y_train = encoder.fit_transform(y_train)\n",
        "    y_test = encoder.transform(y_test)\n",
        "\n",
        "print(\"\\nTipe data di X_train setelah encoding:\")\n",
        "print(X_train.dtypes)\n",
        "\n",
        "# Langkah 3: Latih Model\n",
        "model = RandomForestClassifier(random_state=42)\n",
        "\n",
        "# Melatih model\n",
        "model.fit(X_train, y_train)\n",
        "\n",
        "# Evaluasi model\n",
        "y_pred = model.predict(X_test)\n",
        "print(\"\\nAkurasi Model pada Data Uji:\")\n",
        "print(accuracy_score(y_test, y_pred))\n",
        "\n",
        "print(\"\\nLaporan Klasifikasi:\")\n",
        "print(classification_report(y_test, y_pred))"
      ],
      "metadata": {
        "id": "4JYxBe87NLDk",
        "outputId": "3bb6ebab-800c-43b4-e6fc-c028e4fe899b",
        "colab": {
          "base_uri": "https://localhost:8080/"
        }
      },
      "execution_count": 7,
      "outputs": [
        {
          "output_type": "stream",
          "name": "stdout",
          "text": [
            "Tipe data di X_train sebelum encoding:\n",
            "ID                     float64\n",
            "Year_Birth             float64\n",
            "Education                int64\n",
            "Marital_Status           int64\n",
            "Income                 float64\n",
            "Kidhome                float64\n",
            "Teenhome               float64\n",
            "Dt_Customer              int64\n",
            "Recency                float64\n",
            "MntWines               float64\n",
            "MntFruits              float64\n",
            "MntMeatProducts        float64\n",
            "MntFishProducts        float64\n",
            "MntSweetProducts       float64\n",
            "MntGoldProds           float64\n",
            "NumDealsPurchases      float64\n",
            "NumWebPurchases        float64\n",
            "NumCatalogPurchases    float64\n",
            "NumStorePurchases      float64\n",
            "NumWebVisitsMonth      float64\n",
            "AcceptedCmp3           float64\n",
            "AcceptedCmp4           float64\n",
            "AcceptedCmp5           float64\n",
            "AcceptedCmp1           float64\n",
            "AcceptedCmp2           float64\n",
            "Complain               float64\n",
            "Z_CostContact          float64\n",
            "Z_Revenue              float64\n",
            "Response               float64\n",
            "Age_Group               object\n",
            "dtype: object\n",
            "\n",
            "Tipe data di y_train sebelum encoding:\n",
            "int64\n",
            "\n",
            "Tipe data di X_train setelah encoding:\n",
            "ID                     float64\n",
            "Year_Birth             float64\n",
            "Education                int64\n",
            "Marital_Status           int64\n",
            "Income                 float64\n",
            "Kidhome                float64\n",
            "Teenhome               float64\n",
            "Dt_Customer              int64\n",
            "Recency                float64\n",
            "MntWines               float64\n",
            "MntFruits              float64\n",
            "MntMeatProducts        float64\n",
            "MntFishProducts        float64\n",
            "MntSweetProducts       float64\n",
            "MntGoldProds           float64\n",
            "NumDealsPurchases      float64\n",
            "NumWebPurchases        float64\n",
            "NumCatalogPurchases    float64\n",
            "NumStorePurchases      float64\n",
            "NumWebVisitsMonth      float64\n",
            "AcceptedCmp3           float64\n",
            "AcceptedCmp4           float64\n",
            "AcceptedCmp5           float64\n",
            "AcceptedCmp1           float64\n",
            "AcceptedCmp2           float64\n",
            "Complain               float64\n",
            "Z_CostContact          float64\n",
            "Z_Revenue              float64\n",
            "Response               float64\n",
            "Age_Group                int64\n",
            "dtype: object\n",
            "\n",
            "Akurasi Model pada Data Uji:\n",
            "0.9752066115702479\n",
            "\n",
            "Laporan Klasifikasi:\n",
            "              precision    recall  f1-score   support\n",
            "\n",
            "           0       0.94      0.97      0.96        67\n",
            "           1       0.99      0.98      0.98       175\n",
            "\n",
            "    accuracy                           0.98       242\n",
            "   macro avg       0.97      0.97      0.97       242\n",
            "weighted avg       0.98      0.98      0.98       242\n",
            "\n"
          ]
        }
      ]
    },
    {
      "cell_type": "markdown",
      "source": [
        "Tulis narasi atau penjelasan algoritma yang Anda gunakan."
      ],
      "metadata": {
        "id": "seYoHNY3XU1y"
      }
    },
    {
      "cell_type": "markdown",
      "source": [
        "## **b. Evaluasi Model Klasifikasi**"
      ],
      "metadata": {
        "id": "ergzChZFEL-O"
      }
    },
    {
      "cell_type": "markdown",
      "source": [
        "Berikut adalah **rekomendasi** tahapannya.\n",
        "1. Lakukan prediksi menggunakan data uji.\n",
        "2. Hitung metrik evaluasi seperti Accuracy dan F1-Score (Opsional: Precision dan Recall).\n",
        "3. Buat confusion matrix untuk melihat detail prediksi benar dan salah."
      ],
      "metadata": {
        "id": "zOm68u-7NpLT"
      }
    },
    {
      "cell_type": "code",
      "source": [
        "from sklearn.metrics import accuracy_score, f1_score, precision_score, recall_score, classification_report, confusion_matrix\n",
        "import seaborn as sns\n",
        "import matplotlib.pyplot as plt\n",
        "\n",
        "# Langkah 1: Prediksi Data Uji\n",
        "y_pred = model.predict(X_test)\n",
        "\n",
        "# Langkah 2: Hitung Metrik Evaluasi\n",
        "accuracy = accuracy_score(y_test, y_pred)\n",
        "f1 = f1_score(y_test, y_pred, average='weighted')\n",
        "precision = precision_score(y_test, y_pred, average='weighted')\n",
        "recall = recall_score(y_test, y_pred, average='weighted')\n",
        "\n",
        "print(f\"Akurasi: {accuracy:.2f}\")\n",
        "print(f\"F1-Score: {f1:.2f}\")\n",
        "print(f\"Precision: {precision:.2f}\")\n",
        "print(f\"Recall: {recall:.2f}\")\n",
        "\n",
        "print(\"\\nLaporan Klasifikasi:\")\n",
        "print(classification_report(y_test, y_pred))\n",
        "\n",
        "# Langkah 3: Visualisasi Confusion Matrix\n",
        "cm = confusion_matrix(y_test, y_pred)\n",
        "\n",
        "plt.figure(figsize=(8, 6))\n",
        "sns.heatmap(cm, annot=True, fmt='d', cmap='Blues', xticklabels=np.unique(y_test), yticklabels=np.unique(y_test))\n",
        "plt.title(\"Confusion Matrix\")\n",
        "plt.xlabel(\"Predicted Label\")\n",
        "plt.ylabel(\"True Label\")\n",
        "plt.show()"
      ],
      "metadata": {
        "id": "tMq4QAssNLip",
        "outputId": "e0d08fce-072d-4d90-854c-e4664c4a797e",
        "colab": {
          "base_uri": "https://localhost:8080/",
          "height": 824
        }
      },
      "execution_count": 8,
      "outputs": [
        {
          "output_type": "stream",
          "name": "stdout",
          "text": [
            "Akurasi: 0.98\n",
            "F1-Score: 0.98\n",
            "Precision: 0.98\n",
            "Recall: 0.98\n",
            "\n",
            "Laporan Klasifikasi:\n",
            "              precision    recall  f1-score   support\n",
            "\n",
            "           0       0.94      0.97      0.96        67\n",
            "           1       0.99      0.98      0.98       175\n",
            "\n",
            "    accuracy                           0.98       242\n",
            "   macro avg       0.97      0.97      0.97       242\n",
            "weighted avg       0.98      0.98      0.98       242\n",
            "\n"
          ]
        },
        {
          "output_type": "display_data",
          "data": {
            "text/plain": [
              "<Figure size 800x600 with 2 Axes>"
            ],
            "image/png": "[encoded data removed]"
          },
          "metadata": {}
        }
      ]
    },
    {
      "cell_type": "markdown",
      "source": [
        "Tulis hasil evaluasi algoritma yang digunakan, jika Anda menggunakan 2 algoritma, maka bandingkan hasilnya."
      ],
      "metadata": {
        "id": "H4_9OwrsXZlz"
      }
    },
    {
      "cell_type": "markdown",
      "source": [
        "## **c. Tuning Model Klasifikasi (Optional)**"
      ],
      "metadata": {
        "id": "ph9yIYDXEPuB"
      }
    },
    {
      "cell_type": "markdown",
      "source": [
        "Gunakan GridSearchCV, RandomizedSearchCV, atau metode lainnya untuk mencari kombinasi hyperparameter terbaik"
      ],
      "metadata": {
        "id": "-Bikx3LINv5e"
      }
    },
    {
      "cell_type": "code",
      "source": [],
      "metadata": {
        "id": "nbRJzGQNpKL7"
      },
      "execution_count": null,
      "outputs": []
    },
    {
      "cell_type": "markdown",
      "source": [
        "## **d. Evaluasi Model Klasifikasi setelah Tuning (Optional)**"
      ],
      "metadata": {
        "id": "hE7pqlEPEYzI"
      }
    },
    {
      "cell_type": "markdown",
      "source": [
        "Berikut adalah rekomendasi tahapannya.\n",
        "1. Gunakan model dengan hyperparameter terbaik.\n",
        "2. Hitung ulang metrik evaluasi untuk melihat apakah ada peningkatan performa."
      ],
      "metadata": {
        "id": "feaPESoeN0zz"
      }
    },
    {
      "cell_type": "code",
      "source": [],
      "metadata": {
        "id": "zB1FpDJJpLQ6"
      },
      "execution_count": null,
      "outputs": []
    },
    {
      "cell_type": "markdown",
      "source": [
        "## **e. Analisis Hasil Evaluasi Model Klasifikasi**"
      ],
      "metadata": {
        "id": "ZRsOdm4uEgAW"
      }
    },
    {
      "cell_type": "markdown",
      "source": [
        "Berikut adalah **rekomendasi** tahapannya.\n",
        "1. Bandingkan hasil evaluasi sebelum dan setelah tuning (jika dilakukan).\n",
        "2. Identifikasi kelemahan model, seperti:\n",
        "  - Precision atau Recall rendah untuk kelas tertentu.\n",
        "  - Apakah model mengalami overfitting atau underfitting?\n",
        "3. Berikan rekomendasi tindakan lanjutan, seperti mengumpulkan data tambahan atau mencoba algoritma lain jika hasil belum memuaskan."
      ],
      "metadata": {
        "id": "Hm3BhSi6N4_l"
      }
    },
    {
      "cell_type": "markdown",
      "source": [
        "# Analisis Model Klasifikasi\n",
        "\n",
        "### 1. **Analisis Hasil Klasifikasi**\n",
        "\n",
        "- **Precision dan Recall:**\n",
        "  - Untuk **kelas 0**, precision adalah 0.94 dan recall adalah 0.97, yang menunjukkan bahwa model cukup baik dalam mengidentifikasi kelas 0 meskipun ada sedikit false positives. Precision yang lebih rendah dari recall menunjukkan bahwa ada sedikit kesalahan dalam mengklasifikasikan contoh sebagai kelas 0.\n",
        "  - Untuk **kelas 1**, precision adalah 0.99 dan recall adalah 0.98. Ini menunjukkan bahwa model sangat baik dalam mengidentifikasi kelas 1 dengan sedikit kesalahan dalam false positives dan false negatives.\n",
        "  \n",
        "- **F1-Score:**\n",
        "  - F1-Score untuk **kelas 0** adalah 0.96, dan untuk **kelas 1** adalah 0.98. Nilai F1-Score yang baik menunjukkan keseimbangan antara precision dan recall di kedua kelas, dengan kelas 1 memiliki kinerja yang sedikit lebih baik dibandingkan kelas 0.\n",
        "  \n",
        "- **Macro Average dan Weighted Average:**\n",
        "  - **Macro Average**: Precision, recall, dan F1-score untuk macro average adalah 0.97, yang menunjukkan keseimbangan yang cukup baik di seluruh kelas.\n",
        "  - **Weighted Average**: Precision, recall, dan F1-score untuk weighted average adalah 0.98, yang menunjukkan bahwa model berperforma baik secara keseluruhan, dengan sedikit lebih banyak fokus pada kelas 1, yang memiliki lebih banyak sampel.\n",
        "\n",
        "---\n",
        "\n",
        "### 2. **Potensi Kelemahan dan Identifikasi Masalah**\n",
        "\n",
        "- **Recall untuk Kelas 0:**\n",
        "  - Meskipun recall untuk kelas 0 adalah 0.97, precision untuk kelas ini lebih rendah (0.94). Ini menunjukkan bahwa model lebih sering mengklasifikasikan data kelas 0 sebagai kelas 1, sehingga lebih banyak false positives.\n",
        "  - Ini mungkin disebabkan oleh ketidakseimbangan kelas, di mana kelas 1 memiliki lebih banyak contoh daripada kelas 0. Meskipun model lebih sensitif terhadap kelas 1, penting untuk mengevaluasi lebih lanjut false positives yang terjadi di kelas 0.\n",
        "\n",
        "- **Overfitting atau Underfitting:**\n",
        "  - **Overfitting**: Meskipun model memiliki kinerja yang sangat baik pada data uji, akurasi yang sangat tinggi (0.98) pada data uji menunjukkan bahwa model dapat memiliki potensi overfitting, terutama jika akurasi pada data pelatihan jauh lebih tinggi.\n",
        "  - **Underfitting**: Model sudah menunjukkan performa yang sangat baik dengan nilai F1-Score yang tinggi, sehingga kemungkinan besar model ini tidak mengalami underfitting.\n",
        "\n",
        "---\n",
        "\n",
        "### 3. **Rekomendasi Tindakan Lanjutan**\n",
        "\n",
        "#### A. **Penanganan Recall yang Lebih Rendah untuk Kelas 0**\n",
        "\n",
        "1. **Data Augmentation:**\n",
        "   - Jika kelas 0 memiliki data yang lebih sedikit atau lebih sedikit variasi, pertimbangkan untuk menambah data melalui pengumpulan data baru atau menggunakan teknik **data augmentation** untuk memperbaiki recall kelas 0.\n",
        "   \n",
        "2. **Tuning Model:**\n",
        "   - Sesuaikan parameter model, misalnya dengan memberikan **bobot lebih pada kelas 0** (class weight adjustment) agar model lebih fokus dalam memprediksi kelas tersebut.\n",
        "   \n",
        "3. **Metode Sampling:**\n",
        "   - Gunakan teknik **oversampling** untuk kelas 0 atau **undersampling** untuk kelas 1 guna mengatasi ketidakseimbangan jumlah data antar kelas, yang dapat meningkatkan recall untuk kelas 0.\n",
        "\n",
        "4. **Modifikasi Threshold:**\n",
        "   - Ubah threshold keputusan model untuk meningkatkan **recall** kelas 0, meskipun ini bisa sedikit mengorbankan **precision**. Evaluasi dengan **kurva precision-recall** atau **ROC curve**.\n",
        "\n",
        "#### B. **Cek Overfitting (Jika Diperlukan)**\n",
        "\n",
        "1. **Cross-Validation:**\n",
        "   - Gunakan **cross-validation** untuk mengevaluasi kinerja model secara lebih menyeluruh dan memastikan bahwa model mampu menggeneralisasi dengan baik pada data yang belum pernah dilihat sebelumnya.\n",
        "   \n",
        "2. **Regularisasi:**\n",
        "   - Jika ada indikasi overfitting, pertimbangkan penggunaan teknik **regularisasi** (misalnya L1/L2 regularization) untuk mengurangi kompleksitas model dan memastikan model tidak terlalu menyesuaikan diri dengan data pelatihan.\n",
        "\n",
        "#### C. **Eksplorasi Model Lain**\n",
        "\n",
        "- Meskipun model saat ini sudah sangat baik, cobalah **algoritma lain** seperti **Random Forest**, **Gradient Boosting**, atau **XGBoost** untuk melihat apakah model lain memberikan kinerja yang lebih baik atau lebih stabil.\n",
        "- Jika menggunakan model neural network, pertimbangkan untuk mencoba arsitektur yang lebih dalam seperti **CNN (Convolutional Neural Networks)** atau **RNN (Recurrent Neural Networks)** (terutama jika data bersifat sekuensial).\n",
        "\n",
        "---\n",
        "\n",
        "### 4. **Kesimpulan**\n",
        "\n",
        "- Model ini menunjukkan kinerja yang sangat baik dengan akurasi, precision, recall, dan F1-score hampir sempurna di semua kelas. Meskipun recall untuk kelas 0 sedikit lebih rendah dan precision-nya lebih rendah dibandingkan dengan kelas 1, ini bisa diperbaiki dengan beberapa langkah tambahan seperti data augmentation, penyesuaian parameter model, atau perubahan threshold.\n",
        "- Tidak ada indikasi jelas bahwa model mengalami overfitting atau underfitting, tetapi langkah-langkah seperti **cross-validation** dan pemantauan terhadap distribusi kesalahan dapat membantu memastikan model dapat menggeneralisasi dengan baik pada data baru.\n"
      ],
      "metadata": {
        "id": "4Sey0xvK_FCf"
      }
    }
  ]
}